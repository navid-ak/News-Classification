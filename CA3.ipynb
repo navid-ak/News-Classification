{
 "cells": [
  {
   "cell_type": "markdown",
   "metadata": {},
   "source": [
    "<img src=\"Images/1200px-University_of_Tehran_logo.svg.png\" width=\"100\" style=\"float:left;\"/>\n",
    "\n",
    "<img src=\"Images/fanni.png\" width=\"120\" style=\"float:right;position: relative;top: -25px;\"/>\n",
    "\n",
    "\n",
    "<h1 style=\"float:center;\" align=\"center\">Computer Assignment 3</h1>\n",
    "<h3 style=\"float:center;\" align=\"center\"><b> Navid Akbari ( 810895023 ) </b></h3>"
   ]
  },
  {
   "cell_type": "markdown",
   "metadata": {
    "colab_type": "text",
    "id": "MNrhXdf7gCp6"
   },
   "source": [
    "The goal of this computer assignment is to get more familiar with the Naive Bayes Classification. This algorithm help us to classify between different categories easily. In this CA we want to classify different news categories."
   ]
  },
  {
   "cell_type": "code",
   "execution_count": 1,
   "metadata": {
    "colab": {
     "base_uri": "https://localhost:8080/",
     "height": 196
    },
    "colab_type": "code",
    "id": "n82jr4xjzH4A",
    "outputId": "6ae0a58a-4ad3-4c49-d417-b09a3df48567"
   },
   "outputs": [
    {
     "name": "stderr",
     "output_type": "stream",
     "text": [
      "/usr/local/lib/python3.6/dist-packages/statsmodels/tools/_testing.py:19: FutureWarning: pandas.util.testing is deprecated. Use the functions in the public API at pandas.testing instead.\n",
      "  import pandas.util.testing as tm\n"
     ]
    },
    {
     "name": "stdout",
     "output_type": "stream",
     "text": [
      "[nltk_data] Downloading package wordnet to /root/nltk_data...\n",
      "[nltk_data]   Package wordnet is already up-to-date!\n",
      "[nltk_data] Downloading package stopwords to /root/nltk_data...\n",
      "[nltk_data]   Package stopwords is already up-to-date!\n",
      "[nltk_data] Downloading package punkt to /root/nltk_data...\n",
      "[nltk_data]   Package punkt is already up-to-date!\n",
      "Drive already mounted at /content/drive; to attempt to forcibly remount, call drive.mount(\"/content/drive\", force_remount=True).\n"
     ]
    }
   ],
   "source": [
    "import numpy as np\n",
    "import pandas as pd\n",
    "import re\n",
    "from sklearn.model_selection import train_test_split\n",
    "import matplotlib.pyplot as plt\n",
    "import seaborn as sns\n",
    "sns.set()\n",
    "from nltk.stem import PorterStemmer, WordNetLemmatizer\n",
    "from nltk.tokenize import word_tokenize\n",
    "from nltk.corpus import stopwords\n",
    "import nltk.corpus\n",
    "nltk.download('wordnet')\n",
    "nltk.download('stopwords')\n",
    "nltk.download('punkt')\n",
    "\n",
    "from google.colab import drive\n",
    "drive.mount('/content/drive')\n",
    "pd.set_option('mode.chained_assignment', None)"
   ]
  },
  {
   "cell_type": "markdown",
   "metadata": {
    "colab_type": "text",
    "id": "NdTIrzZihLY1"
   },
   "source": [
    "First, we read the data from .csv file and check the data info."
   ]
  },
  {
   "cell_type": "code",
   "execution_count": 2,
   "metadata": {
    "colab": {
     "base_uri": "https://localhost:8080/",
     "height": 197
    },
    "colab_type": "code",
    "id": "U0UOMx35zZKa",
    "outputId": "ba7398bd-d937-4e32-a31d-dc3f8f586936"
   },
   "outputs": [
    {
     "data": {
      "text/html": [
       "<div>\n",
       "<style scoped>\n",
       "    .dataframe tbody tr th:only-of-type {\n",
       "        vertical-align: middle;\n",
       "    }\n",
       "\n",
       "    .dataframe tbody tr th {\n",
       "        vertical-align: top;\n",
       "    }\n",
       "\n",
       "    .dataframe thead th {\n",
       "        text-align: right;\n",
       "    }\n",
       "</style>\n",
       "<table border=\"1\" class=\"dataframe\">\n",
       "  <thead>\n",
       "    <tr style=\"text-align: right;\">\n",
       "      <th></th>\n",
       "      <th>category</th>\n",
       "      <th>short_description</th>\n",
       "    </tr>\n",
       "  </thead>\n",
       "  <tbody>\n",
       "    <tr>\n",
       "      <th>0</th>\n",
       "      <td>TRAVEL</td>\n",
       "      <td>Påskekrim is merely the tip of the proverbial ...</td>\n",
       "    </tr>\n",
       "    <tr>\n",
       "      <th>1</th>\n",
       "      <td>BUSINESS</td>\n",
       "      <td>NaN</td>\n",
       "    </tr>\n",
       "    <tr>\n",
       "      <th>2</th>\n",
       "      <td>STYLE &amp; BEAUTY</td>\n",
       "      <td>Madonna is slinking her way into footwear now,...</td>\n",
       "    </tr>\n",
       "    <tr>\n",
       "      <th>3</th>\n",
       "      <td>TRAVEL</td>\n",
       "      <td>But what if you're a 30-something couple that ...</td>\n",
       "    </tr>\n",
       "    <tr>\n",
       "      <th>4</th>\n",
       "      <td>BUSINESS</td>\n",
       "      <td>Obamacare was supposed to make birth control f...</td>\n",
       "    </tr>\n",
       "  </tbody>\n",
       "</table>\n",
       "</div>"
      ],
      "text/plain": [
       "         category                                  short_description\n",
       "0          TRAVEL  Påskekrim is merely the tip of the proverbial ...\n",
       "1        BUSINESS                                                NaN\n",
       "2  STYLE & BEAUTY  Madonna is slinking her way into footwear now,...\n",
       "3          TRAVEL  But what if you're a 30-something couple that ...\n",
       "4        BUSINESS  Obamacare was supposed to make birth control f..."
      ]
     },
     "execution_count": 2,
     "metadata": {
      "tags": []
     },
     "output_type": "execute_result"
    }
   ],
   "source": [
    "fields=['category', 'short_description']\n",
    "data = pd.read_csv('/content/drive/My Drive/Colab Notebooks/Attachment/data.csv', usecols=fields)\n",
    "data.head()"
   ]
  },
  {
   "cell_type": "code",
   "execution_count": 3,
   "metadata": {
    "colab": {
     "base_uri": "https://localhost:8080/",
     "height": 176
    },
    "colab_type": "code",
    "id": "GipxMhVv1uKY",
    "outputId": "3f2043e2-51bd-40f8-a0ac-018e9a1afef2"
   },
   "outputs": [
    {
     "name": "stdout",
     "output_type": "stream",
     "text": [
      "<class 'pandas.core.frame.DataFrame'>\n",
      "RangeIndex: 22925 entries, 0 to 22924\n",
      "Data columns (total 2 columns):\n",
      " #   Column             Non-Null Count  Dtype \n",
      "---  ------             --------------  ----- \n",
      " 0   category           22925 non-null  object\n",
      " 1   short_description  21703 non-null  object\n",
      "dtypes: object(2)\n",
      "memory usage: 358.3+ KB\n"
     ]
    }
   ],
   "source": [
    "data.info()"
   ]
  },
  {
   "cell_type": "markdown",
   "metadata": {
    "colab_type": "text",
    "id": "15Uz_dbM10D8"
   },
   "source": [
    "As you see there exists some null object in the dataset, so we should delete them."
   ]
  },
  {
   "cell_type": "code",
   "execution_count": 4,
   "metadata": {
    "colab": {
     "base_uri": "https://localhost:8080/",
     "height": 176
    },
    "colab_type": "code",
    "id": "erLfZsxs17fh",
    "outputId": "a3f19f04-9840-491b-ab64-11b9564ce916"
   },
   "outputs": [
    {
     "name": "stdout",
     "output_type": "stream",
     "text": [
      "<class 'pandas.core.frame.DataFrame'>\n",
      "Int64Index: 21703 entries, 0 to 22924\n",
      "Data columns (total 2 columns):\n",
      " #   Column             Non-Null Count  Dtype \n",
      "---  ------             --------------  ----- \n",
      " 0   category           21703 non-null  object\n",
      " 1   short_description  21703 non-null  object\n",
      "dtypes: object(2)\n",
      "memory usage: 508.7+ KB\n"
     ]
    }
   ],
   "source": [
    "data = data.dropna()\n",
    "data.info()"
   ]
  },
  {
   "cell_type": "markdown",
   "metadata": {
    "colab_type": "text",
    "id": "hB_LpkBZhZ9G"
   },
   "source": [
    "# Data Preprocessing\n",
    "Next step in each ML problem is to clean data and prepare it for making the best usage of it. Here I define a `normalize` function which clean data. First I convert all the words in the data set to lower case, then I eliminate all symbols except alphabets. After that I delete stop words from the dataset. Stop words are the words which are very common in English language and also they don't have any specific meaning like: I, me, you, etc. Then I tokenize sentences and run the lemmatizer and stemmer method on the words.\n",
    "## Stemming\n",
    "Stemming is the process of reducing inflection in words to their root forms such as mapping a group of words to the same stem even if the stem itself is not a valid word in the Language.\n",
    "\n",
    "## Lemmatization\n",
    "Lemmatization, unlike Stemming, reduces the inflected words properly ensuring that the root word belongs to the language. In Lemmatization root word is called Lemma. A lemma (plural lemmas or lemmata) is the canonical form, dictionary form, or citation form of a set of words.\n",
    "\n",
    "At the end I remove unneeded columns.\n",
    "\n",
    "## Comparison\n",
    "\n",
    "As is shown in the below diagram, Theres is not any huge difference between using Stemming and Lemmatization here in our data set. I decide to use the Lemmatization only.\n",
    "\n",
    "| Lemmatization | Stemming | Both Stemming and Lemmatization |\n",
    "| --- | --- | --- |\n",
    "| <img src=\"Images/letlower.png\" width=\"300px\"/> | <img src=\"Images/stemlow.png\" width=\"300px\"/>  | <img src=\"Images/bothlow.png\" width=\"300px\"/> |\n",
    "\n",
    "| None of the Stemming and Lemmatization | Not Lower Case |\n",
    "| --- | --- |\n",
    "| <img src=\"Images/non.png\" width=\"300px\"/> | <img src=\"Images/notlower.png\" width=\"300px\"/>  |"
   ]
  },
  {
   "cell_type": "code",
   "execution_count": 5,
   "metadata": {
    "colab": {
     "base_uri": "https://localhost:8080/",
     "height": 197
    },
    "colab_type": "code",
    "id": "hAoycY7Y1-ZO",
    "outputId": "d622890d-031c-4ad2-ce37-b98a047173aa"
   },
   "outputs": [
    {
     "data": {
      "text/html": [
       "<div>\n",
       "<style scoped>\n",
       "    .dataframe tbody tr th:only-of-type {\n",
       "        vertical-align: middle;\n",
       "    }\n",
       "\n",
       "    .dataframe tbody tr th {\n",
       "        vertical-align: top;\n",
       "    }\n",
       "\n",
       "    .dataframe thead th {\n",
       "        text-align: right;\n",
       "    }\n",
       "</style>\n",
       "<table border=\"1\" class=\"dataframe\">\n",
       "  <thead>\n",
       "    <tr style=\"text-align: right;\">\n",
       "      <th></th>\n",
       "      <th>category</th>\n",
       "      <th>text_tokens</th>\n",
       "    </tr>\n",
       "  </thead>\n",
       "  <tbody>\n",
       "    <tr>\n",
       "      <th>0</th>\n",
       "      <td>TRAVEL</td>\n",
       "      <td>[Pskekrim, merely, tip, proverbial, iceberg, O...</td>\n",
       "    </tr>\n",
       "    <tr>\n",
       "      <th>2</th>\n",
       "      <td>STYLE &amp; BEAUTY</td>\n",
       "      <td>[Madonna, slinking, way, footwear, Truth, Dare...</td>\n",
       "    </tr>\n",
       "    <tr>\n",
       "      <th>3</th>\n",
       "      <td>TRAVEL</td>\n",
       "      <td>[But, youre, something, couple, shy, away, tab...</td>\n",
       "    </tr>\n",
       "    <tr>\n",
       "      <th>4</th>\n",
       "      <td>BUSINESS</td>\n",
       "      <td>[Obamacare, supposed, make, birth, control, fr...</td>\n",
       "    </tr>\n",
       "    <tr>\n",
       "      <th>5</th>\n",
       "      <td>STYLE &amp; BEAUTY</td>\n",
       "      <td>[Madonna, previously, released, Truth, Dare, f...</td>\n",
       "    </tr>\n",
       "  </tbody>\n",
       "</table>\n",
       "</div>"
      ],
      "text/plain": [
       "         category                                        text_tokens\n",
       "0          TRAVEL  [Pskekrim, merely, tip, proverbial, iceberg, O...\n",
       "2  STYLE & BEAUTY  [Madonna, slinking, way, footwear, Truth, Dare...\n",
       "3          TRAVEL  [But, youre, something, couple, shy, away, tab...\n",
       "4        BUSINESS  [Obamacare, supposed, make, birth, control, fr...\n",
       "5  STYLE & BEAUTY  [Madonna, previously, released, Truth, Dare, f..."
      ]
     },
     "execution_count": 5,
     "metadata": {
      "tags": []
     },
     "output_type": "execute_result"
    }
   ],
   "source": [
    "def word_stemmer(text):\n",
    "    stem_text = [PorterStemmer().stem(i) for i in text]\n",
    "    return stem_text\n",
    "\n",
    "def word_lemmatizer(text):\n",
    "    lem_text = [WordNetLemmatizer().lemmatize(i) for i in text]\n",
    "    return lem_text\n",
    "\n",
    "def normalize(data):\n",
    "    stop_words = stopwords.words('english')\n",
    "\n",
    "    data['clean_data'] = data['short_description'].str.lower()\n",
    "    data['clean_data'] = data['short_description'].apply(lambda elem: re.sub(r\"(@[A-Za-z0-9]+)|([^0-9A-Za-z \\t])|(\\w+:\\/\\/\\S+)|^rt|http.+?\", \"\", elem))  \n",
    "    data['clean_data'] = data['clean_data'].apply(lambda elem: re.sub(r\"\\d+\", \"\", elem))\n",
    "    data['clean_data'] = data['clean_data'].apply(lambda x: ' '.join([word for word in x.split() if word not in (stop_words)]))\n",
    "    data['text_tokens'] = data['clean_data'].apply(lambda x: word_tokenize(x))\n",
    "    data['text_tokens'] = data['text_tokens'].apply(lambda x: word_lemmatizer(x)) \n",
    "    # data['text_tokens'] = data['text_tokens'].apply(lambda x: word_stemmer(x))\n",
    "    data = data.drop(columns=['short_description', 'clean_data'])\n",
    "    \n",
    "    return data\n",
    "\n",
    "\n",
    "data = normalize(data)\n",
    "data.head()"
   ]
  },
  {
   "cell_type": "markdown",
   "metadata": {
    "colab_type": "text",
    "id": "Oth3fRyWq9vx"
   },
   "source": [
    "# Split Train set and Test set\n",
    "First, we need to separate our data into two parts of train set and test set. 80% of data is considered as train set. We choose a random subset for train and test so that it is not sorted in any specific order and it can represent the entire news collection better. Also it is better to split data equally in each category because it help to train our data set better and test it more accurately. If we don't mention this matter it is possible to choose one category data very low and this is bad for training data, and make data biosed. `train_test_split` function helps to split data wisely."
   ]
  },
  {
   "cell_type": "code",
   "execution_count": 6,
   "metadata": {
    "colab": {
     "base_uri": "https://localhost:8080/",
     "height": 197
    },
    "colab_type": "code",
    "id": "bVGFDgeF4sGj",
    "outputId": "6bcca189-7753-4dbc-ef23-eba53f455486"
   },
   "outputs": [
    {
     "data": {
      "text/html": [
       "<div>\n",
       "<style scoped>\n",
       "    .dataframe tbody tr th:only-of-type {\n",
       "        vertical-align: middle;\n",
       "    }\n",
       "\n",
       "    .dataframe tbody tr th {\n",
       "        vertical-align: top;\n",
       "    }\n",
       "\n",
       "    .dataframe thead th {\n",
       "        text-align: right;\n",
       "    }\n",
       "</style>\n",
       "<table border=\"1\" class=\"dataframe\">\n",
       "  <thead>\n",
       "    <tr style=\"text-align: right;\">\n",
       "      <th></th>\n",
       "      <th>category</th>\n",
       "      <th>text_tokens</th>\n",
       "    </tr>\n",
       "  </thead>\n",
       "  <tbody>\n",
       "    <tr>\n",
       "      <th>14315</th>\n",
       "      <td>BUSINESS</td>\n",
       "      <td>[Today, featuring, Tina, Cheng, Cherubic, Vent...</td>\n",
       "    </tr>\n",
       "    <tr>\n",
       "      <th>11117</th>\n",
       "      <td>BUSINESS</td>\n",
       "      <td>[He, spent, lot, time, addressing, failing, bi...</td>\n",
       "    </tr>\n",
       "    <tr>\n",
       "      <th>11306</th>\n",
       "      <td>STYLE &amp; BEAUTY</td>\n",
       "      <td>[Since, however, Lam, seemed, wary, highlow, g...</td>\n",
       "    </tr>\n",
       "    <tr>\n",
       "      <th>9215</th>\n",
       "      <td>STYLE &amp; BEAUTY</td>\n",
       "      <td>[Its, easy]</td>\n",
       "    </tr>\n",
       "    <tr>\n",
       "      <th>8390</th>\n",
       "      <td>STYLE &amp; BEAUTY</td>\n",
       "      <td>[For, arent, familiar, dramedy, created, yearo...</td>\n",
       "    </tr>\n",
       "  </tbody>\n",
       "</table>\n",
       "</div>"
      ],
      "text/plain": [
       "             category                                        text_tokens\n",
       "14315        BUSINESS  [Today, featuring, Tina, Cheng, Cherubic, Vent...\n",
       "11117        BUSINESS  [He, spent, lot, time, addressing, failing, bi...\n",
       "11306  STYLE & BEAUTY  [Since, however, Lam, seemed, wary, highlow, g...\n",
       "9215   STYLE & BEAUTY                                        [Its, easy]\n",
       "8390   STYLE & BEAUTY  [For, arent, familiar, dramedy, created, yearo..."
      ]
     },
     "execution_count": 6,
     "metadata": {
      "tags": []
     },
     "output_type": "execute_result"
    }
   ],
   "source": [
    "train, test = train_test_split(data, test_size=0.2, random_state=10)\n",
    "train.head()"
   ]
  },
  {
   "cell_type": "markdown",
   "metadata": {
    "colab_type": "text",
    "id": "R9910xUZvFXs"
   },
   "source": [
    "# Naive Bayes\n",
    "I use bag of words method for calculating probabilities of the problem. In my algorithm, each distinct word is considered a feature.\n",
    "\n",
    "Bayesian probability consists of 4 parts:\n",
    "* Prior\n",
    "* Posterior\n",
    "* Likelihood\n",
    "* Evidence\n",
    "\n",
    "$$P(Category|W_0, W_1, W_2, ...,  W_n) = \\frac{P(Category)P(W_0, W_1, W_2, ...,  W_n|Category)}{P(W_0, W_1, W_2, ...,  W_n)}$$\n",
    "\n",
    "**Prior** is the probability of each category in general, this means how probable it is for a news to be in a certain category in general not considering any other data. In order to calculate the prior, for each category, we divide the number of that category news by the number of all given news.\n",
    " \n",
    "**Likelihood** is the probability of each word of a news given the category. In Naive Bayes, each feature is independent of others, so this is the multiplication of the probabilities of each word given the category. This means how probable it is for a certain category to use that word. To calculate this, we multiply the probabilities of each word given the category. The probaility of each word given the category is the number of times that word is used in that category divided by the total number of words in that category.\n",
    "\n",
    "**Evidence** is the probabiliy of all words that we have in a given poem. We do not need to calculate this as it is the same for each category and does not change the result of comparison. If we wanted to calculate this, we could multiply the probabilites of all words. The probability of each word is the number of its occurance divided by the count of all words.\n",
    "\n",
    "**Posterior** is the probaility of a category given the words in a news. We use bayesian rule stated below to calculate this.\n",
    "\n",
    "$$ P(c|X) = P(c)\\times\\prod_{i=1}^{n} P(x_i|c) $$\n",
    "\n",
    "## Laplace Smoothing\n",
    "If a word is used only in one caregory, the probability of it given the other category, will be zero and as we multiply the probabilities, the result will be zero not considering any other features.\n",
    "\n",
    "In order to fix this, we add a fixed alpha to the count of all words in its category and add count * alpha to the denominator."
   ]
  },
  {
   "cell_type": "code",
   "execution_count": 7,
   "metadata": {
    "colab": {
     "base_uri": "https://localhost:8080/",
     "height": 227
    },
    "colab_type": "code",
    "id": "Wa5E7yGKBuw2",
    "outputId": "8a99a300-3d50-408b-ac83-70090f1ad3da"
   },
   "outputs": [
    {
     "data": {
      "text/html": [
       "<div>\n",
       "<style scoped>\n",
       "    .dataframe tbody tr th:only-of-type {\n",
       "        vertical-align: middle;\n",
       "    }\n",
       "\n",
       "    .dataframe tbody tr th {\n",
       "        vertical-align: top;\n",
       "    }\n",
       "\n",
       "    .dataframe thead th {\n",
       "        text-align: right;\n",
       "    }\n",
       "</style>\n",
       "<table border=\"1\" class=\"dataframe\">\n",
       "  <thead>\n",
       "    <tr style=\"text-align: right;\">\n",
       "      <th></th>\n",
       "      <th>travel_count</th>\n",
       "      <th>business_count</th>\n",
       "      <th>style_count</th>\n",
       "      <th>travel_prob</th>\n",
       "      <th>business_prob</th>\n",
       "      <th>style_prob</th>\n",
       "    </tr>\n",
       "    <tr>\n",
       "      <th>word</th>\n",
       "      <th></th>\n",
       "      <th></th>\n",
       "      <th></th>\n",
       "      <th></th>\n",
       "      <th></th>\n",
       "      <th></th>\n",
       "    </tr>\n",
       "  </thead>\n",
       "  <tbody>\n",
       "    <tr>\n",
       "      <th>loudmouthed</th>\n",
       "      <td>1</td>\n",
       "      <td>0</td>\n",
       "      <td>0</td>\n",
       "      <td>1.38201e-05</td>\n",
       "      <td>1.12291e-05</td>\n",
       "      <td>7.85349e-06</td>\n",
       "    </tr>\n",
       "    <tr>\n",
       "      <th>Federation</th>\n",
       "      <td>0</td>\n",
       "      <td>1</td>\n",
       "      <td>0</td>\n",
       "      <td>6.91004e-06</td>\n",
       "      <td>2.24583e-05</td>\n",
       "      <td>7.85349e-06</td>\n",
       "    </tr>\n",
       "    <tr>\n",
       "      <th>longtime</th>\n",
       "      <td>5</td>\n",
       "      <td>1</td>\n",
       "      <td>3</td>\n",
       "      <td>4.14602e-05</td>\n",
       "      <td>2.24583e-05</td>\n",
       "      <td>3.14139e-05</td>\n",
       "    </tr>\n",
       "    <tr>\n",
       "      <th>Mills</th>\n",
       "      <td>2</td>\n",
       "      <td>0</td>\n",
       "      <td>0</td>\n",
       "      <td>2.07301e-05</td>\n",
       "      <td>1.12291e-05</td>\n",
       "      <td>7.85349e-06</td>\n",
       "    </tr>\n",
       "    <tr>\n",
       "      <th>cluster</th>\n",
       "      <td>3</td>\n",
       "      <td>2</td>\n",
       "      <td>0</td>\n",
       "      <td>2.76402e-05</td>\n",
       "      <td>3.36874e-05</td>\n",
       "      <td>7.85349e-06</td>\n",
       "    </tr>\n",
       "  </tbody>\n",
       "</table>\n",
       "</div>"
      ],
      "text/plain": [
       "            travel_count business_count  ... business_prob   style_prob\n",
       "word                                     ...                           \n",
       "loudmouthed            1              0  ...   1.12291e-05  7.85349e-06\n",
       "Federation             0              1  ...   2.24583e-05  7.85349e-06\n",
       "longtime               5              1  ...   2.24583e-05  3.14139e-05\n",
       "Mills                  2              0  ...   1.12291e-05  7.85349e-06\n",
       "cluster                3              2  ...   3.36874e-05  7.85349e-06\n",
       "\n",
       "[5 rows x 6 columns]"
      ]
     },
     "execution_count": 7,
     "metadata": {
      "tags": []
     },
     "output_type": "execute_result"
    }
   ],
   "source": [
    "def find_probability(train):\n",
    "\n",
    "    words = []\n",
    "    for text in train['text_tokens']:\n",
    "        words += text\n",
    "    words = list(set(words))\n",
    "\n",
    "    travel_train = train[train['category'] == \"TRAVEL\"].text_tokens\n",
    "    business_train = train[train['category'] == \"BUSINESS\"].text_tokens\n",
    "    style_train = train[train['category'] == \"STYLE & BEAUTY\"].text_tokens\n",
    "\n",
    "    travel_words = []\n",
    "    for text in travel_train:\n",
    "        travel_words += text\n",
    "\n",
    "    business_words = []\n",
    "    for text in business_train:\n",
    "        business_words += text\n",
    "\n",
    "    style_words = []\n",
    "    for text in style_train:\n",
    "        style_words += text\n",
    "    \n",
    "    train_all_word_count = pd.DataFrame(columns=['travel_count', 'business_count', 'style_count'])\n",
    "    for word in words:\n",
    "        train_all_word_count = train_all_word_count.append({'word': word, 'travel_count': travel_words.count(word), 'business_count': business_words.count(word), 'style_count': style_words.count(word)}, ignore_index=True)\n",
    "        \n",
    "    train_all_word_count = train_all_word_count.set_index('word')\n",
    "\n",
    "    alpha = 1\n",
    "    train_all_word_count['travel_prob'] = (train_all_word_count['travel_count'] + alpha) / (len(travel_words) + (len(set(travel_words + business_words + style_words))* alpha))\n",
    "    train_all_word_count['business_prob'] = (train_all_word_count['business_count'] + alpha) / (len(business_words) + (len(set(travel_words + business_words + style_words))* alpha))\n",
    "    train_all_word_count['style_prob'] = (train_all_word_count['style_count'] + alpha) / (len(style_words) + (len(set(travel_words + business_words + style_words))* alpha))\n",
    "\n",
    "\n",
    "    return  train_all_word_count\n",
    "\n",
    "train_all_word_count = find_probability(train)\n",
    "train_all_word_count.head()\n"
   ]
  },
  {
   "cell_type": "code",
   "execution_count": 8,
   "metadata": {
    "colab": {
     "base_uri": "https://localhost:8080/",
     "height": 197
    },
    "colab_type": "code",
    "id": "kWv13TRXH7TX",
    "outputId": "2185bac7-7554-4a9e-a9e9-74e4f1d73520"
   },
   "outputs": [
    {
     "data": {
      "text/html": [
       "<div>\n",
       "<style scoped>\n",
       "    .dataframe tbody tr th:only-of-type {\n",
       "        vertical-align: middle;\n",
       "    }\n",
       "\n",
       "    .dataframe tbody tr th {\n",
       "        vertical-align: top;\n",
       "    }\n",
       "\n",
       "    .dataframe thead th {\n",
       "        text-align: right;\n",
       "    }\n",
       "</style>\n",
       "<table border=\"1\" class=\"dataframe\">\n",
       "  <thead>\n",
       "    <tr style=\"text-align: right;\">\n",
       "      <th></th>\n",
       "      <th>category</th>\n",
       "      <th>text_tokens</th>\n",
       "    </tr>\n",
       "  </thead>\n",
       "  <tbody>\n",
       "    <tr>\n",
       "      <th>10268</th>\n",
       "      <td>TRAVEL</td>\n",
       "      <td>[Danville, perfect, place, slip, away, city, m...</td>\n",
       "    </tr>\n",
       "    <tr>\n",
       "      <th>20623</th>\n",
       "      <td>TRAVEL</td>\n",
       "      <td>[Behind, beautiful, brochure, website, describ...</td>\n",
       "    </tr>\n",
       "    <tr>\n",
       "      <th>20297</th>\n",
       "      <td>STYLE &amp; BEAUTY</td>\n",
       "      <td>[The, president, Wangs, company, Mario, Grauso...</td>\n",
       "    </tr>\n",
       "    <tr>\n",
       "      <th>578</th>\n",
       "      <td>TRAVEL</td>\n",
       "      <td>[Most, farming, Iceland, raising, animal, gras...</td>\n",
       "    </tr>\n",
       "    <tr>\n",
       "      <th>569</th>\n",
       "      <td>TRAVEL</td>\n",
       "      <td>[Q, Ill, visiting, Milan, summer, Any, suggest...</td>\n",
       "    </tr>\n",
       "  </tbody>\n",
       "</table>\n",
       "</div>"
      ],
      "text/plain": [
       "             category                                        text_tokens\n",
       "10268          TRAVEL  [Danville, perfect, place, slip, away, city, m...\n",
       "20623          TRAVEL  [Behind, beautiful, brochure, website, describ...\n",
       "20297  STYLE & BEAUTY  [The, president, Wangs, company, Mario, Grauso...\n",
       "578            TRAVEL  [Most, farming, Iceland, raising, animal, gras...\n",
       "569            TRAVEL  [Q, Ill, visiting, Milan, summer, Any, suggest..."
      ]
     },
     "execution_count": 8,
     "metadata": {
      "tags": []
     },
     "output_type": "execute_result"
    }
   ],
   "source": [
    "test.head()"
   ]
  },
  {
   "cell_type": "code",
   "execution_count": 9,
   "metadata": {
    "colab": {
     "base_uri": "https://localhost:8080/",
     "height": 197
    },
    "colab_type": "code",
    "id": "43MZpIsbIzSB",
    "outputId": "146d17c9-6c71-46c3-a9f3-8215298e680f"
   },
   "outputs": [
    {
     "data": {
      "text/html": [
       "<div>\n",
       "<style scoped>\n",
       "    .dataframe tbody tr th:only-of-type {\n",
       "        vertical-align: middle;\n",
       "    }\n",
       "\n",
       "    .dataframe tbody tr th {\n",
       "        vertical-align: top;\n",
       "    }\n",
       "\n",
       "    .dataframe thead th {\n",
       "        text-align: right;\n",
       "    }\n",
       "</style>\n",
       "<table border=\"1\" class=\"dataframe\">\n",
       "  <thead>\n",
       "    <tr style=\"text-align: right;\">\n",
       "      <th></th>\n",
       "      <th>category</th>\n",
       "      <th>text_tokens</th>\n",
       "      <th>prediction</th>\n",
       "    </tr>\n",
       "  </thead>\n",
       "  <tbody>\n",
       "    <tr>\n",
       "      <th>10268</th>\n",
       "      <td>TRAVEL</td>\n",
       "      <td>[Danville, perfect, place, slip, away, city, m...</td>\n",
       "      <td>TRAVEL</td>\n",
       "    </tr>\n",
       "    <tr>\n",
       "      <th>20623</th>\n",
       "      <td>TRAVEL</td>\n",
       "      <td>[Behind, beautiful, brochure, website, describ...</td>\n",
       "      <td>TRAVEL</td>\n",
       "    </tr>\n",
       "    <tr>\n",
       "      <th>578</th>\n",
       "      <td>TRAVEL</td>\n",
       "      <td>[Most, farming, Iceland, raising, animal, gras...</td>\n",
       "      <td>TRAVEL</td>\n",
       "    </tr>\n",
       "    <tr>\n",
       "      <th>569</th>\n",
       "      <td>TRAVEL</td>\n",
       "      <td>[Q, Ill, visiting, Milan, summer, Any, suggest...</td>\n",
       "      <td>TRAVEL</td>\n",
       "    </tr>\n",
       "    <tr>\n",
       "      <th>2105</th>\n",
       "      <td>TRAVEL</td>\n",
       "      <td>[Have, favorite, street, Add, comment, For, li...</td>\n",
       "      <td>TRAVEL</td>\n",
       "    </tr>\n",
       "  </tbody>\n",
       "</table>\n",
       "</div>"
      ],
      "text/plain": [
       "      category                                        text_tokens prediction\n",
       "10268   TRAVEL  [Danville, perfect, place, slip, away, city, m...     TRAVEL\n",
       "20623   TRAVEL  [Behind, beautiful, brochure, website, describ...     TRAVEL\n",
       "578     TRAVEL  [Most, farming, Iceland, raising, animal, gras...     TRAVEL\n",
       "569     TRAVEL  [Q, Ill, visiting, Milan, summer, Any, suggest...     TRAVEL\n",
       "2105    TRAVEL  [Have, favorite, street, Add, comment, For, li...     TRAVEL"
      ]
     },
     "execution_count": 9,
     "metadata": {
      "tags": []
     },
     "output_type": "execute_result"
    }
   ],
   "source": [
    "def first_prediction(test, train, train_all_word_count):\n",
    "    \n",
    "    words = []\n",
    "    for text in train['text_tokens']:\n",
    "        words += text\n",
    "    words = list(set(words))\n",
    "\n",
    "    travel_train = train[train['category'] == \"TRAVEL\"].text_tokens\n",
    "    business_train = train[train['category'] == \"BUSINESS\"].text_tokens\n",
    "    \n",
    "    selected_test = test[test.category != 'STYLE & BEAUTY']\n",
    "    for index, row in selected_test.iterrows(): \n",
    "        curr_travel_prob = len(travel_train) / (len(travel_train) + len(business_train))\n",
    "        curr_business_prob = len(business_train) / (len(travel_train) + len(business_train))\n",
    "        for word in row[\"text_tokens\"]:\n",
    "            if word in words:\n",
    "                curr_travel_prob *= train_all_word_count.at[word, 'travel_prob']\n",
    "                curr_business_prob *= train_all_word_count.at[word, 'business_prob']\n",
    "        \n",
    "        if curr_travel_prob >= curr_business_prob :\n",
    "            selected_test.at[index, 'prediction'] = 'TRAVEL'\n",
    "        elif curr_travel_prob < curr_business_prob:\n",
    "            selected_test.at[index, 'prediction'] = 'BUSINESS'\n",
    "\n",
    "    return selected_test\n",
    "\n",
    "result = first_prediction(test, train, train_all_word_count)\n",
    "result.head()"
   ]
  },
  {
   "cell_type": "code",
   "execution_count": 10,
   "metadata": {
    "colab": {
     "base_uri": "https://localhost:8080/",
     "height": 167
    },
    "colab_type": "code",
    "id": "FNat15AKXzOQ",
    "outputId": "36c6b45f-a90b-4a5e-9e69-b3f870cadb29"
   },
   "outputs": [
    {
     "data": {
      "text/html": [
       "<div>\n",
       "<style scoped>\n",
       "    .dataframe tbody tr th:only-of-type {\n",
       "        vertical-align: middle;\n",
       "    }\n",
       "\n",
       "    .dataframe tbody tr th {\n",
       "        vertical-align: top;\n",
       "    }\n",
       "\n",
       "    .dataframe thead th {\n",
       "        text-align: right;\n",
       "    }\n",
       "</style>\n",
       "<table border=\"1\" class=\"dataframe\">\n",
       "  <thead>\n",
       "    <tr style=\"text-align: right;\">\n",
       "      <th></th>\n",
       "      <th>BUSINESS</th>\n",
       "      <th>TRAVEL</th>\n",
       "    </tr>\n",
       "    <tr>\n",
       "      <th>Phase 1</th>\n",
       "      <th></th>\n",
       "      <th></th>\n",
       "    </tr>\n",
       "  </thead>\n",
       "  <tbody>\n",
       "    <tr>\n",
       "      <th>Recall</th>\n",
       "      <td>0.81576</td>\n",
       "      <td>0.94142</td>\n",
       "    </tr>\n",
       "    <tr>\n",
       "      <th>Precision</th>\n",
       "      <td>0.881295</td>\n",
       "      <td>0.905521</td>\n",
       "    </tr>\n",
       "    <tr>\n",
       "      <th>Accuracy</th>\n",
       "      <td>0.897723</td>\n",
       "      <td>0.897723</td>\n",
       "    </tr>\n",
       "  </tbody>\n",
       "</table>\n",
       "</div>"
      ],
      "text/plain": [
       "           BUSINESS    TRAVEL\n",
       "Phase 1                      \n",
       "Recall      0.81576   0.94142\n",
       "Precision  0.881295  0.905521\n",
       "Accuracy   0.897723  0.897723"
      ]
     },
     "execution_count": 10,
     "metadata": {
      "tags": []
     },
     "output_type": "execute_result"
    }
   ],
   "source": [
    "def first_evaluation(input_test):\n",
    "    input_test['correct'] = (input_test['category'] == input_test['prediction'])\n",
    "    correct_count = (input_test['correct']).sum()\n",
    "    accuracy = correct_count / len(input_test)\n",
    "\n",
    "    correct_travel = (input_test.loc[(input_test['category'] == 'TRAVEL') & input_test['correct']].correct).sum()\n",
    "    all_travel = (input_test['category'] == 'TRAVEL').sum()\n",
    "    all_travel_detected = (input_test['prediction'] == 'TRAVEL').sum()\n",
    "    \n",
    "    travel_precision = correct_travel / all_travel_detected\n",
    "    travel_recall = correct_travel / all_travel\n",
    "\n",
    "    correct_business = (input_test.loc[(input_test['category'] == 'BUSINESS') & input_test['correct']].correct).sum()\n",
    "    all_business = (input_test['category'] == 'BUSINESS').sum()\n",
    "    all_business_detected = (input_test['prediction'] == 'BUSINESS').sum()\n",
    "    \n",
    "    business_precision = correct_business / all_business_detected\n",
    "    business_recall = correct_business / all_business\n",
    "\n",
    "    table = pd.DataFrame([], index=['Recall','Precision', 'Accuracy'], columns=['BUSINESS', 'TRAVEL'])\n",
    "    table.loc['Recall']['BUSINESS'] = business_recall\n",
    "    table.loc['Recall']['TRAVEL'] = travel_recall\n",
    "    table.loc['Precision']['BUSINESS'] = business_precision\n",
    "    table.loc['Precision']['TRAVEL'] = travel_precision\n",
    "    table.loc['Accuracy'] = accuracy\n",
    "    table.index.name = 'Phase 1'\n",
    "    return table\n",
    "    \n",
    "\n",
    "table = first_evaluation(result)\n",
    "table"
   ]
  },
  {
   "cell_type": "code",
   "execution_count": 11,
   "metadata": {
    "colab": {
     "base_uri": "https://localhost:8080/",
     "height": 197
    },
    "colab_type": "code",
    "id": "dTbZSif6urlP",
    "outputId": "d1ec2c6c-3047-42af-d316-452d506c9ccf"
   },
   "outputs": [
    {
     "data": {
      "text/html": [
       "<div>\n",
       "<style scoped>\n",
       "    .dataframe tbody tr th:only-of-type {\n",
       "        vertical-align: middle;\n",
       "    }\n",
       "\n",
       "    .dataframe tbody tr th {\n",
       "        vertical-align: top;\n",
       "    }\n",
       "\n",
       "    .dataframe thead th {\n",
       "        text-align: right;\n",
       "    }\n",
       "</style>\n",
       "<table border=\"1\" class=\"dataframe\">\n",
       "  <thead>\n",
       "    <tr style=\"text-align: right;\">\n",
       "      <th></th>\n",
       "      <th>category</th>\n",
       "      <th>text_tokens</th>\n",
       "      <th>prediction</th>\n",
       "    </tr>\n",
       "  </thead>\n",
       "  <tbody>\n",
       "    <tr>\n",
       "      <th>10268</th>\n",
       "      <td>TRAVEL</td>\n",
       "      <td>[Danville, perfect, place, slip, away, city, m...</td>\n",
       "      <td>TRAVEL</td>\n",
       "    </tr>\n",
       "    <tr>\n",
       "      <th>20623</th>\n",
       "      <td>TRAVEL</td>\n",
       "      <td>[Behind, beautiful, brochure, website, describ...</td>\n",
       "      <td>TRAVEL</td>\n",
       "    </tr>\n",
       "    <tr>\n",
       "      <th>20297</th>\n",
       "      <td>STYLE &amp; BEAUTY</td>\n",
       "      <td>[The, president, Wangs, company, Mario, Grauso...</td>\n",
       "      <td>STYLE &amp; BEAUTY</td>\n",
       "    </tr>\n",
       "    <tr>\n",
       "      <th>578</th>\n",
       "      <td>TRAVEL</td>\n",
       "      <td>[Most, farming, Iceland, raising, animal, gras...</td>\n",
       "      <td>TRAVEL</td>\n",
       "    </tr>\n",
       "    <tr>\n",
       "      <th>569</th>\n",
       "      <td>TRAVEL</td>\n",
       "      <td>[Q, Ill, visiting, Milan, summer, Any, suggest...</td>\n",
       "      <td>TRAVEL</td>\n",
       "    </tr>\n",
       "  </tbody>\n",
       "</table>\n",
       "</div>"
      ],
      "text/plain": [
       "             category  ...      prediction\n",
       "10268          TRAVEL  ...          TRAVEL\n",
       "20623          TRAVEL  ...          TRAVEL\n",
       "20297  STYLE & BEAUTY  ...  STYLE & BEAUTY\n",
       "578            TRAVEL  ...          TRAVEL\n",
       "569            TRAVEL  ...          TRAVEL\n",
       "\n",
       "[5 rows x 3 columns]"
      ]
     },
     "execution_count": 11,
     "metadata": {
      "tags": []
     },
     "output_type": "execute_result"
    }
   ],
   "source": [
    "def second_prediction(test, train, train_all_word_count):\n",
    "\n",
    "    words = []\n",
    "    for text in train['text_tokens']:\n",
    "        words += text\n",
    "    words = list(set(words))\n",
    "    \n",
    "    travel_train = train[train['category'] == \"TRAVEL\"].text_tokens\n",
    "    business_train = train[train['category'] == \"BUSINESS\"].text_tokens\n",
    "    style_train = train[train['category'] == \"STYLE & BEAUTY\"].text_tokens\n",
    "\n",
    "    for index, row in test.iterrows(): \n",
    "        curr_travel_prob = len(travel_train) / (len(travel_train) + len(business_train) + len(style_train))\n",
    "        curr_business_prob = len(business_train) / (len(travel_train) + len(business_train) + len(style_train))\n",
    "        curr_style_prob = len(style_train) / (len(travel_train) + len(business_train) + len(style_train))\n",
    "        for word in row[\"text_tokens\"]:\n",
    "            if word in words:\n",
    "                curr_travel_prob *= train_all_word_count.at[word, 'travel_prob']\n",
    "                curr_business_prob *= train_all_word_count.at[word, 'business_prob']\n",
    "                curr_style_prob *= train_all_word_count.at[word, 'style_prob']\n",
    "        if curr_travel_prob >= curr_business_prob and curr_travel_prob >= curr_style_prob:\n",
    "          test.at[index, 'prediction'] = 'TRAVEL'\n",
    "        elif curr_business_prob >= curr_travel_prob and curr_business_prob >= curr_style_prob:\n",
    "          test.at[index, 'prediction'] = 'BUSINESS'\n",
    "        elif curr_style_prob >= curr_travel_prob and curr_style_prob >= curr_business_prob:\n",
    "          test.at[index, 'prediction'] = 'STYLE & BEAUTY'\n",
    "    \n",
    "    return test\n",
    "\n",
    "result = second_prediction(test, train, train_all_word_count)\n",
    "result.head()"
   ]
  },
  {
   "cell_type": "code",
   "execution_count": 12,
   "metadata": {
    "colab": {
     "base_uri": "https://localhost:8080/",
     "height": 167
    },
    "colab_type": "code",
    "id": "WcbF1ABbPuoC",
    "outputId": "8d7e4705-925c-4d20-eb32-f95d182fad58"
   },
   "outputs": [
    {
     "data": {
      "text/html": [
       "<div>\n",
       "<style scoped>\n",
       "    .dataframe tbody tr th:only-of-type {\n",
       "        vertical-align: middle;\n",
       "    }\n",
       "\n",
       "    .dataframe tbody tr th {\n",
       "        vertical-align: top;\n",
       "    }\n",
       "\n",
       "    .dataframe thead th {\n",
       "        text-align: right;\n",
       "    }\n",
       "</style>\n",
       "<table border=\"1\" class=\"dataframe\">\n",
       "  <thead>\n",
       "    <tr style=\"text-align: right;\">\n",
       "      <th></th>\n",
       "      <th>BUSINESS</th>\n",
       "      <th>TRAVEL</th>\n",
       "      <th>STYLE &amp; BEAUTY</th>\n",
       "    </tr>\n",
       "    <tr>\n",
       "      <th>Phase 2</th>\n",
       "      <th></th>\n",
       "      <th></th>\n",
       "      <th></th>\n",
       "    </tr>\n",
       "  </thead>\n",
       "  <tbody>\n",
       "    <tr>\n",
       "      <th>Recall</th>\n",
       "      <td>0.776915</td>\n",
       "      <td>0.885799</td>\n",
       "      <td>0.846857</td>\n",
       "    </tr>\n",
       "    <tr>\n",
       "      <th>Precision</th>\n",
       "      <td>0.807382</td>\n",
       "      <td>0.819825</td>\n",
       "      <td>0.899272</td>\n",
       "    </tr>\n",
       "    <tr>\n",
       "      <th>Accuracy</th>\n",
       "      <td>0.847501</td>\n",
       "      <td>0.847501</td>\n",
       "      <td>0.847501</td>\n",
       "    </tr>\n",
       "  </tbody>\n",
       "</table>\n",
       "</div>"
      ],
      "text/plain": [
       "           BUSINESS    TRAVEL STYLE & BEAUTY\n",
       "Phase 2                                     \n",
       "Recall     0.776915  0.885799       0.846857\n",
       "Precision  0.807382  0.819825       0.899272\n",
       "Accuracy   0.847501  0.847501       0.847501"
      ]
     },
     "execution_count": 12,
     "metadata": {
      "tags": []
     },
     "output_type": "execute_result"
    }
   ],
   "source": [
    "def second_evaluation(input_test):\n",
    "    input_test['correct'] = (input_test['category'] == input_test['prediction'])\n",
    "    correct_count = (input_test['correct']).sum()\n",
    "    accuracy = correct_count / len(input_test)\n",
    "\n",
    "    correct_travel = (input_test.loc[(input_test['category'] == 'TRAVEL') & input_test['correct']].correct).sum()\n",
    "    all_travel = (input_test['category'] == 'TRAVEL').sum()\n",
    "    all_travel_detected = (input_test['prediction'] == 'TRAVEL').sum()\n",
    "    \n",
    "    travel_precision = correct_travel / all_travel_detected\n",
    "    travel_recall = correct_travel / all_travel\n",
    "\n",
    "    correct_business = (input_test.loc[(input_test['category'] == 'BUSINESS') & input_test['correct']].correct).sum()\n",
    "    all_business = (input_test['category'] == 'BUSINESS').sum()\n",
    "    all_business_detected = (input_test['prediction'] == 'BUSINESS').sum()\n",
    "    \n",
    "    business_precision = correct_business / all_business_detected\n",
    "    business_recall = correct_business / all_business\n",
    "\n",
    "    correct_style = (input_test.loc[(input_test['category'] == 'STYLE & BEAUTY') & input_test['correct']].correct).sum()\n",
    "    all_style = (input_test['category'] == 'STYLE & BEAUTY').sum()\n",
    "    all_style_detected = (input_test['prediction'] == 'STYLE & BEAUTY').sum()\n",
    "    \n",
    "    style_precision = correct_style / all_style_detected\n",
    "    style_recall = correct_style / all_style\n",
    "\n",
    "    table = pd.DataFrame([], index=['Recall','Precision', 'Accuracy'], columns=['BUSINESS', 'TRAVEL', 'STYLE & BEAUTY'])\n",
    "    table.loc['Recall']['BUSINESS'] = business_recall\n",
    "    table.loc['Recall']['TRAVEL'] = travel_recall\n",
    "    table.loc['Recall']['STYLE & BEAUTY'] = style_recall\n",
    "    table.loc['Precision']['BUSINESS'] = business_precision\n",
    "    table.loc['Precision']['TRAVEL'] = travel_precision\n",
    "    table.loc['Precision']['STYLE & BEAUTY'] = style_precision\n",
    "    table.loc['Accuracy'] = accuracy\n",
    "    table.index.name = 'Phase 2'\n",
    "    return table\n",
    "    \n",
    "\n",
    "table = second_evaluation(result)\n",
    "table"
   ]
  },
  {
   "cell_type": "markdown",
   "metadata": {
    "colab_type": "text",
    "id": "aAdvO1h0AbUm"
   },
   "source": [
    "# **Sampling**\n",
    "\n",
    "As it's shown in the below diagram, we can see that the numbers of business category is far less than the other categories. This matter has effect on the recall and precision cerateria. By using the oversampling method we choose random data and add them to the `BUSINESS` and `TRAVEL` categories to make the size of the categories same.\n",
    "\n",
    "As we can see in the result the recall and precision cerateria become more relevent after this method."
   ]
  },
  {
   "cell_type": "code",
   "execution_count": 13,
   "metadata": {
    "colab": {
     "base_uri": "https://localhost:8080/",
     "height": 302
    },
    "colab_type": "code",
    "id": "2cPNgGAvAaOy",
    "outputId": "778b90ac-cc74-4f2a-d7bc-9d3d86643239"
   },
   "outputs": [
    {
     "data": {
      "text/plain": [
       "<matplotlib.axes._subplots.AxesSubplot at 0x7f729dd5cac8>"
      ]
     },
     "execution_count": 13,
     "metadata": {
      "tags": []
     },
     "output_type": "execute_result"
    },
    {
     "data": {
      "image/png": "[encoded data removed]",
      "text/plain": [
       "<Figure size 432x288 with 1 Axes>"
      ]
     },
     "metadata": {
      "needs_background": "light",
      "tags": []
     },
     "output_type": "display_data"
    }
   ],
   "source": [
    "train, test = train_test_split(data, test_size=0.2, random_state=10)\n",
    "sns.countplot(x=train['category'])"
   ]
  },
  {
   "cell_type": "code",
   "execution_count": 14,
   "metadata": {
    "colab": {
     "base_uri": "https://localhost:8080/",
     "height": 302
    },
    "colab_type": "code",
    "id": "LyrKWhkLA6sZ",
    "outputId": "167657f5-7f69-41a6-9c93-0ec52f1a5f3f"
   },
   "outputs": [
    {
     "data": {
      "text/plain": [
       "<matplotlib.axes._subplots.AxesSubplot at 0x7f729c2bdef0>"
      ]
     },
     "execution_count": 14,
     "metadata": {
      "tags": []
     },
     "output_type": "execute_result"
    },
    {
     "data": {
      "image/png": "[encoded data removed]",
      "text/plain": [
       "<Figure size 432x288 with 1 Axes>"
      ]
     },
     "metadata": {
      "needs_background": "light",
      "tags": []
     },
     "output_type": "display_data"
    }
   ],
   "source": [
    "def oversampling(train):\n",
    "    business = train[train.category == 'BUSINESS']\n",
    "    style = train[train.category == 'STYLE & BEAUTY']\n",
    "    travel = train[train.category == 'TRAVEL']\n",
    "\n",
    "    for i in range(len(style) - len(business)):\n",
    "        train = train.append(business.sample(), ignore_index=True)\n",
    "\n",
    "    for i in range(len(style) - len(travel)):\n",
    "        train = train.append(travel.sample(), ignore_index=True)\n",
    "\n",
    "    return train\n",
    "\n",
    "train = oversampling(train)\n",
    "sns.countplot(x=train['category'])"
   ]
  },
  {
   "cell_type": "code",
   "execution_count": 15,
   "metadata": {
    "colab": {
     "base_uri": "https://localhost:8080/",
     "height": 227
    },
    "colab_type": "code",
    "id": "L4GHJupmJYdT",
    "outputId": "cf7ff2cf-4937-42d3-97df-d497fb0d8c6a"
   },
   "outputs": [
    {
     "data": {
      "text/html": [
       "<div>\n",
       "<style scoped>\n",
       "    .dataframe tbody tr th:only-of-type {\n",
       "        vertical-align: middle;\n",
       "    }\n",
       "\n",
       "    .dataframe tbody tr th {\n",
       "        vertical-align: top;\n",
       "    }\n",
       "\n",
       "    .dataframe thead th {\n",
       "        text-align: right;\n",
       "    }\n",
       "</style>\n",
       "<table border=\"1\" class=\"dataframe\">\n",
       "  <thead>\n",
       "    <tr style=\"text-align: right;\">\n",
       "      <th></th>\n",
       "      <th>travel_count</th>\n",
       "      <th>business_count</th>\n",
       "      <th>style_count</th>\n",
       "      <th>travel_prob</th>\n",
       "      <th>business_prob</th>\n",
       "      <th>style_prob</th>\n",
       "    </tr>\n",
       "    <tr>\n",
       "      <th>word</th>\n",
       "      <th></th>\n",
       "      <th></th>\n",
       "      <th></th>\n",
       "      <th></th>\n",
       "      <th></th>\n",
       "      <th></th>\n",
       "    </tr>\n",
       "  </thead>\n",
       "  <tbody>\n",
       "    <tr>\n",
       "      <th>loudmouthed</th>\n",
       "      <td>1</td>\n",
       "      <td>0</td>\n",
       "      <td>0</td>\n",
       "      <td>1.35875e-05</td>\n",
       "      <td>7.19704e-06</td>\n",
       "      <td>7.85349e-06</td>\n",
       "    </tr>\n",
       "    <tr>\n",
       "      <th>Federation</th>\n",
       "      <td>0</td>\n",
       "      <td>1</td>\n",
       "      <td>0</td>\n",
       "      <td>6.79376e-06</td>\n",
       "      <td>1.43941e-05</td>\n",
       "      <td>7.85349e-06</td>\n",
       "    </tr>\n",
       "    <tr>\n",
       "      <th>longtime</th>\n",
       "      <td>5</td>\n",
       "      <td>1</td>\n",
       "      <td>3</td>\n",
       "      <td>4.07625e-05</td>\n",
       "      <td>1.43941e-05</td>\n",
       "      <td>3.14139e-05</td>\n",
       "    </tr>\n",
       "    <tr>\n",
       "      <th>Mills</th>\n",
       "      <td>2</td>\n",
       "      <td>0</td>\n",
       "      <td>0</td>\n",
       "      <td>2.03813e-05</td>\n",
       "      <td>7.19704e-06</td>\n",
       "      <td>7.85349e-06</td>\n",
       "    </tr>\n",
       "    <tr>\n",
       "      <th>cluster</th>\n",
       "      <td>5</td>\n",
       "      <td>8</td>\n",
       "      <td>0</td>\n",
       "      <td>4.07625e-05</td>\n",
       "      <td>6.47734e-05</td>\n",
       "      <td>7.85349e-06</td>\n",
       "    </tr>\n",
       "  </tbody>\n",
       "</table>\n",
       "</div>"
      ],
      "text/plain": [
       "            travel_count business_count  ... business_prob   style_prob\n",
       "word                                     ...                           \n",
       "loudmouthed            1              0  ...   7.19704e-06  7.85349e-06\n",
       "Federation             0              1  ...   1.43941e-05  7.85349e-06\n",
       "longtime               5              1  ...   1.43941e-05  3.14139e-05\n",
       "Mills                  2              0  ...   7.19704e-06  7.85349e-06\n",
       "cluster                5              8  ...   6.47734e-05  7.85349e-06\n",
       "\n",
       "[5 rows x 6 columns]"
      ]
     },
     "execution_count": 15,
     "metadata": {
      "tags": []
     },
     "output_type": "execute_result"
    }
   ],
   "source": [
    "train_all_word_count = find_probability(train)\n",
    "train_all_word_count.head()"
   ]
  },
  {
   "cell_type": "code",
   "execution_count": 16,
   "metadata": {
    "colab": {
     "base_uri": "https://localhost:8080/",
     "height": 197
    },
    "colab_type": "code",
    "id": "w6LNR4jUSmtw",
    "outputId": "387844a4-2d74-43a1-ffe7-5c281a05fb91"
   },
   "outputs": [
    {
     "data": {
      "text/html": [
       "<div>\n",
       "<style scoped>\n",
       "    .dataframe tbody tr th:only-of-type {\n",
       "        vertical-align: middle;\n",
       "    }\n",
       "\n",
       "    .dataframe tbody tr th {\n",
       "        vertical-align: top;\n",
       "    }\n",
       "\n",
       "    .dataframe thead th {\n",
       "        text-align: right;\n",
       "    }\n",
       "</style>\n",
       "<table border=\"1\" class=\"dataframe\">\n",
       "  <thead>\n",
       "    <tr style=\"text-align: right;\">\n",
       "      <th></th>\n",
       "      <th>category</th>\n",
       "      <th>text_tokens</th>\n",
       "      <th>prediction</th>\n",
       "    </tr>\n",
       "  </thead>\n",
       "  <tbody>\n",
       "    <tr>\n",
       "      <th>10268</th>\n",
       "      <td>TRAVEL</td>\n",
       "      <td>[Danville, perfect, place, slip, away, city, m...</td>\n",
       "      <td>TRAVEL</td>\n",
       "    </tr>\n",
       "    <tr>\n",
       "      <th>20623</th>\n",
       "      <td>TRAVEL</td>\n",
       "      <td>[Behind, beautiful, brochure, website, describ...</td>\n",
       "      <td>TRAVEL</td>\n",
       "    </tr>\n",
       "    <tr>\n",
       "      <th>578</th>\n",
       "      <td>TRAVEL</td>\n",
       "      <td>[Most, farming, Iceland, raising, animal, gras...</td>\n",
       "      <td>TRAVEL</td>\n",
       "    </tr>\n",
       "    <tr>\n",
       "      <th>569</th>\n",
       "      <td>TRAVEL</td>\n",
       "      <td>[Q, Ill, visiting, Milan, summer, Any, suggest...</td>\n",
       "      <td>TRAVEL</td>\n",
       "    </tr>\n",
       "    <tr>\n",
       "      <th>2105</th>\n",
       "      <td>TRAVEL</td>\n",
       "      <td>[Have, favorite, street, Add, comment, For, li...</td>\n",
       "      <td>TRAVEL</td>\n",
       "    </tr>\n",
       "  </tbody>\n",
       "</table>\n",
       "</div>"
      ],
      "text/plain": [
       "      category                                        text_tokens prediction\n",
       "10268   TRAVEL  [Danville, perfect, place, slip, away, city, m...     TRAVEL\n",
       "20623   TRAVEL  [Behind, beautiful, brochure, website, describ...     TRAVEL\n",
       "578     TRAVEL  [Most, farming, Iceland, raising, animal, gras...     TRAVEL\n",
       "569     TRAVEL  [Q, Ill, visiting, Milan, summer, Any, suggest...     TRAVEL\n",
       "2105    TRAVEL  [Have, favorite, street, Add, comment, For, li...     TRAVEL"
      ]
     },
     "execution_count": 16,
     "metadata": {
      "tags": []
     },
     "output_type": "execute_result"
    }
   ],
   "source": [
    "result = first_prediction(test, train, train_all_word_count)\n",
    "result.head()"
   ]
  },
  {
   "cell_type": "code",
   "execution_count": 17,
   "metadata": {
    "colab": {
     "base_uri": "https://localhost:8080/",
     "height": 167
    },
    "colab_type": "code",
    "id": "XCcJiEGRSs7l",
    "outputId": "ab8fbb91-d318-4ee6-d7c9-4a299521912e"
   },
   "outputs": [
    {
     "data": {
      "text/html": [
       "<div>\n",
       "<style scoped>\n",
       "    .dataframe tbody tr th:only-of-type {\n",
       "        vertical-align: middle;\n",
       "    }\n",
       "\n",
       "    .dataframe tbody tr th {\n",
       "        vertical-align: top;\n",
       "    }\n",
       "\n",
       "    .dataframe thead th {\n",
       "        text-align: right;\n",
       "    }\n",
       "</style>\n",
       "<table border=\"1\" class=\"dataframe\">\n",
       "  <thead>\n",
       "    <tr style=\"text-align: right;\">\n",
       "      <th></th>\n",
       "      <th>BUSINESS</th>\n",
       "      <th>TRAVEL</th>\n",
       "    </tr>\n",
       "    <tr>\n",
       "      <th>Phase 1</th>\n",
       "      <th></th>\n",
       "      <th></th>\n",
       "    </tr>\n",
       "  </thead>\n",
       "  <tbody>\n",
       "    <tr>\n",
       "      <th>Recall</th>\n",
       "      <td>0.887902</td>\n",
       "      <td>0.9</td>\n",
       "    </tr>\n",
       "    <tr>\n",
       "      <th>Precision</th>\n",
       "      <td>0.825593</td>\n",
       "      <td>0.937731</td>\n",
       "    </tr>\n",
       "    <tr>\n",
       "      <th>Accuracy</th>\n",
       "      <td>0.895793</td>\n",
       "      <td>0.895793</td>\n",
       "    </tr>\n",
       "  </tbody>\n",
       "</table>\n",
       "</div>"
      ],
      "text/plain": [
       "           BUSINESS    TRAVEL\n",
       "Phase 1                      \n",
       "Recall     0.887902       0.9\n",
       "Precision  0.825593  0.937731\n",
       "Accuracy   0.895793  0.895793"
      ]
     },
     "execution_count": 17,
     "metadata": {
      "tags": []
     },
     "output_type": "execute_result"
    }
   ],
   "source": [
    "table = first_evaluation(result)\n",
    "table"
   ]
  },
  {
   "cell_type": "code",
   "execution_count": 18,
   "metadata": {
    "colab": {
     "base_uri": "https://localhost:8080/",
     "height": 197
    },
    "colab_type": "code",
    "id": "iXMq2L-8URy1",
    "outputId": "526ec040-7566-471c-b8d3-0e6b5a691671",
    "scrolled": true
   },
   "outputs": [
    {
     "data": {
      "text/html": [
       "<div>\n",
       "<style scoped>\n",
       "    .dataframe tbody tr th:only-of-type {\n",
       "        vertical-align: middle;\n",
       "    }\n",
       "\n",
       "    .dataframe tbody tr th {\n",
       "        vertical-align: top;\n",
       "    }\n",
       "\n",
       "    .dataframe thead th {\n",
       "        text-align: right;\n",
       "    }\n",
       "</style>\n",
       "<table border=\"1\" class=\"dataframe\">\n",
       "  <thead>\n",
       "    <tr style=\"text-align: right;\">\n",
       "      <th></th>\n",
       "      <th>category</th>\n",
       "      <th>text_tokens</th>\n",
       "      <th>prediction</th>\n",
       "    </tr>\n",
       "  </thead>\n",
       "  <tbody>\n",
       "    <tr>\n",
       "      <th>10268</th>\n",
       "      <td>TRAVEL</td>\n",
       "      <td>[Danville, perfect, place, slip, away, city, m...</td>\n",
       "      <td>TRAVEL</td>\n",
       "    </tr>\n",
       "    <tr>\n",
       "      <th>20623</th>\n",
       "      <td>TRAVEL</td>\n",
       "      <td>[Behind, beautiful, brochure, website, describ...</td>\n",
       "      <td>TRAVEL</td>\n",
       "    </tr>\n",
       "    <tr>\n",
       "      <th>20297</th>\n",
       "      <td>STYLE &amp; BEAUTY</td>\n",
       "      <td>[The, president, Wangs, company, Mario, Grauso...</td>\n",
       "      <td>STYLE &amp; BEAUTY</td>\n",
       "    </tr>\n",
       "    <tr>\n",
       "      <th>578</th>\n",
       "      <td>TRAVEL</td>\n",
       "      <td>[Most, farming, Iceland, raising, animal, gras...</td>\n",
       "      <td>TRAVEL</td>\n",
       "    </tr>\n",
       "    <tr>\n",
       "      <th>569</th>\n",
       "      <td>TRAVEL</td>\n",
       "      <td>[Q, Ill, visiting, Milan, summer, Any, suggest...</td>\n",
       "      <td>TRAVEL</td>\n",
       "    </tr>\n",
       "  </tbody>\n",
       "</table>\n",
       "</div>"
      ],
      "text/plain": [
       "             category  ...      prediction\n",
       "10268          TRAVEL  ...          TRAVEL\n",
       "20623          TRAVEL  ...          TRAVEL\n",
       "20297  STYLE & BEAUTY  ...  STYLE & BEAUTY\n",
       "578            TRAVEL  ...          TRAVEL\n",
       "569            TRAVEL  ...          TRAVEL\n",
       "\n",
       "[5 rows x 3 columns]"
      ]
     },
     "execution_count": 18,
     "metadata": {
      "tags": []
     },
     "output_type": "execute_result"
    }
   ],
   "source": [
    "result = second_prediction(test, train, train_all_word_count)\n",
    "result.head()"
   ]
  },
  {
   "cell_type": "code",
   "execution_count": 19,
   "metadata": {
    "colab": {
     "base_uri": "https://localhost:8080/",
     "height": 167
    },
    "colab_type": "code",
    "id": "Y69TdQHOUURG",
    "outputId": "02f2a4bb-e87c-4000-e1c9-88b0ed2c662a"
   },
   "outputs": [
    {
     "data": {
      "text/html": [
       "<div>\n",
       "<style scoped>\n",
       "    .dataframe tbody tr th:only-of-type {\n",
       "        vertical-align: middle;\n",
       "    }\n",
       "\n",
       "    .dataframe tbody tr th {\n",
       "        vertical-align: top;\n",
       "    }\n",
       "\n",
       "    .dataframe thead th {\n",
       "        text-align: right;\n",
       "    }\n",
       "</style>\n",
       "<table border=\"1\" class=\"dataframe\">\n",
       "  <thead>\n",
       "    <tr style=\"text-align: right;\">\n",
       "      <th></th>\n",
       "      <th>BUSINESS</th>\n",
       "      <th>TRAVEL</th>\n",
       "      <th>STYLE &amp; BEAUTY</th>\n",
       "    </tr>\n",
       "    <tr>\n",
       "      <th>Phase 2</th>\n",
       "      <th></th>\n",
       "      <th></th>\n",
       "      <th></th>\n",
       "    </tr>\n",
       "  </thead>\n",
       "  <tbody>\n",
       "    <tr>\n",
       "      <th>Recall</th>\n",
       "      <td>0.857936</td>\n",
       "      <td>0.851479</td>\n",
       "      <td>0.830286</td>\n",
       "    </tr>\n",
       "    <tr>\n",
       "      <th>Precision</th>\n",
       "      <td>0.734791</td>\n",
       "      <td>0.846969</td>\n",
       "      <td>0.913836</td>\n",
       "    </tr>\n",
       "    <tr>\n",
       "      <th>Accuracy</th>\n",
       "      <td>0.844276</td>\n",
       "      <td>0.844276</td>\n",
       "      <td>0.844276</td>\n",
       "    </tr>\n",
       "  </tbody>\n",
       "</table>\n",
       "</div>"
      ],
      "text/plain": [
       "           BUSINESS    TRAVEL STYLE & BEAUTY\n",
       "Phase 2                                     \n",
       "Recall     0.857936  0.851479       0.830286\n",
       "Precision  0.734791  0.846969       0.913836\n",
       "Accuracy   0.844276  0.844276       0.844276"
      ]
     },
     "execution_count": 19,
     "metadata": {
      "tags": []
     },
     "output_type": "execute_result"
    }
   ],
   "source": [
    "table = second_evaluation(result)\n",
    "table"
   ]
  },
  {
   "cell_type": "markdown",
   "metadata": {
    "colab_type": "text",
    "id": "yVAtnK9A7jiK"
   },
   "source": [
    "# Confusion matrix\n",
    "A confusion matrix is a matrix that can be used to measure the performance of an machine learning algorithm. Each column of the confusion matrix represents the instances of an actual class and each row represents the instances of a predicted class. By using this metric we can find out how many of the categories detected truly and how much of them detected wrongly."
   ]
  },
  {
   "cell_type": "code",
   "execution_count": 20,
   "metadata": {
    "colab": {
     "base_uri": "https://localhost:8080/",
     "height": 167
    },
    "colab_type": "code",
    "id": "cf_fVzD87AUX",
    "outputId": "02925df6-0b3f-4c1a-c937-8e24fbf6639c"
   },
   "outputs": [
    {
     "data": {
      "text/html": [
       "<div>\n",
       "<style scoped>\n",
       "    .dataframe tbody tr th:only-of-type {\n",
       "        vertical-align: middle;\n",
       "    }\n",
       "\n",
       "    .dataframe tbody tr th {\n",
       "        vertical-align: top;\n",
       "    }\n",
       "\n",
       "    .dataframe thead th {\n",
       "        text-align: right;\n",
       "    }\n",
       "</style>\n",
       "<table border=\"1\" class=\"dataframe\">\n",
       "  <thead>\n",
       "    <tr style=\"text-align: right;\">\n",
       "      <th></th>\n",
       "      <th>BUSINESS</th>\n",
       "      <th>STYLE &amp; BEAUTY</th>\n",
       "      <th>TRAVEL</th>\n",
       "    </tr>\n",
       "    <tr>\n",
       "      <th>Confusion</th>\n",
       "      <th></th>\n",
       "      <th></th>\n",
       "      <th></th>\n",
       "    </tr>\n",
       "  </thead>\n",
       "  <tbody>\n",
       "    <tr>\n",
       "      <th>BUSINESS</th>\n",
       "      <td>773</td>\n",
       "      <td>123</td>\n",
       "      <td>156</td>\n",
       "    </tr>\n",
       "    <tr>\n",
       "      <th>STYLE &amp; BEAUTY</th>\n",
       "      <td>42</td>\n",
       "      <td>1453</td>\n",
       "      <td>95</td>\n",
       "    </tr>\n",
       "    <tr>\n",
       "      <th>TRAVEL</th>\n",
       "      <td>86</td>\n",
       "      <td>174</td>\n",
       "      <td>1439</td>\n",
       "    </tr>\n",
       "  </tbody>\n",
       "</table>\n",
       "</div>"
      ],
      "text/plain": [
       "               BUSINESS STYLE & BEAUTY TRAVEL\n",
       "Confusion                                    \n",
       "BUSINESS            773            123    156\n",
       "STYLE & BEAUTY       42           1453     95\n",
       "TRAVEL               86            174   1439"
      ]
     },
     "execution_count": 20,
     "metadata": {
      "tags": []
     },
     "output_type": "execute_result"
    }
   ],
   "source": [
    "from sklearn.metrics import confusion_matrix\n",
    "def calc_confusion(result):\n",
    "    actual = result['category'] \n",
    "    predicted = result['prediction'] \n",
    "    results = confusion_matrix(actual, predicted)\n",
    "\n",
    "    table = pd.DataFrame([], index=['BUSINESS',  'STYLE & BEAUTY', 'TRAVEL'], columns=['BUSINESS',  'STYLE & BEAUTY', 'TRAVEL'])\n",
    "    table.loc['BUSINESS']['BUSINESS'] = results[0][0]\n",
    "    table.loc['BUSINESS']['STYLE & BEAUTY'] = results[1][0]\n",
    "    table.loc['BUSINESS']['TRAVEL'] = results[2][0]\n",
    "    table.loc['STYLE & BEAUTY']['BUSINESS'] = results[0][1]\n",
    "    table.loc['STYLE & BEAUTY']['STYLE & BEAUTY'] = results[1][1]\n",
    "    table.loc['STYLE & BEAUTY']['TRAVEL'] = results[2][1]\n",
    "    table.loc['TRAVEL']['BUSINESS'] = results[0][2]\n",
    "    table.loc['TRAVEL']['STYLE & BEAUTY'] = results[1][2]\n",
    "    table.loc['TRAVEL']['TRAVEL'] = results[2][2]\n",
    "    table.index.name = 'Confusion'\n",
    "    return table\n",
    "\n",
    "table = calc_confusion(result)\n",
    "table"
   ]
  },
  {
   "cell_type": "markdown",
   "metadata": {
    "colab_type": "text",
    "id": "xuknJDcv6Jhr"
   },
   "source": [
    "# **Final Evaluation**\n",
    "\n",
    "Now we try our trained data for evaluating the real samples."
   ]
  },
  {
   "cell_type": "code",
   "execution_count": 21,
   "metadata": {
    "colab": {
     "base_uri": "https://localhost:8080/",
     "height": 197
    },
    "colab_type": "code",
    "id": "dYYyQJlW6FJR",
    "outputId": "e87e1e8e-7513-46f4-8d71-735032319839"
   },
   "outputs": [
    {
     "data": {
      "text/html": [
       "<div>\n",
       "<style scoped>\n",
       "    .dataframe tbody tr th:only-of-type {\n",
       "        vertical-align: middle;\n",
       "    }\n",
       "\n",
       "    .dataframe tbody tr th {\n",
       "        vertical-align: top;\n",
       "    }\n",
       "\n",
       "    .dataframe thead th {\n",
       "        text-align: right;\n",
       "    }\n",
       "</style>\n",
       "<table border=\"1\" class=\"dataframe\">\n",
       "  <thead>\n",
       "    <tr style=\"text-align: right;\">\n",
       "      <th></th>\n",
       "      <th>index</th>\n",
       "      <th>short_description</th>\n",
       "    </tr>\n",
       "  </thead>\n",
       "  <tbody>\n",
       "    <tr>\n",
       "      <th>0</th>\n",
       "      <td>0</td>\n",
       "      <td>Now, we're not exactly saying Kate is cutting ...</td>\n",
       "    </tr>\n",
       "    <tr>\n",
       "      <th>1</th>\n",
       "      <td>1</td>\n",
       "      <td>Instagram's Local Lens series is the perfect w...</td>\n",
       "    </tr>\n",
       "    <tr>\n",
       "      <th>2</th>\n",
       "      <td>2</td>\n",
       "      <td>NaN</td>\n",
       "    </tr>\n",
       "    <tr>\n",
       "      <th>3</th>\n",
       "      <td>3</td>\n",
       "      <td>NaN</td>\n",
       "    </tr>\n",
       "    <tr>\n",
       "      <th>4</th>\n",
       "      <td>4</td>\n",
       "      <td>Check out the video on how to get our favorite...</td>\n",
       "    </tr>\n",
       "  </tbody>\n",
       "</table>\n",
       "</div>"
      ],
      "text/plain": [
       "   index                                  short_description\n",
       "0      0  Now, we're not exactly saying Kate is cutting ...\n",
       "1      1  Instagram's Local Lens series is the perfect w...\n",
       "2      2                                                NaN\n",
       "3      3                                                NaN\n",
       "4      4  Check out the video on how to get our favorite..."
      ]
     },
     "execution_count": 21,
     "metadata": {
      "tags": []
     },
     "output_type": "execute_result"
    }
   ],
   "source": [
    "fields=['index', 'short_description']\n",
    "evaluation_test = pd.read_csv('/content/drive/My Drive/Colab Notebooks/Attachment/test.csv', usecols=fields)\n",
    "evaluation_test.head()"
   ]
  },
  {
   "cell_type": "code",
   "execution_count": 22,
   "metadata": {
    "colab": {
     "base_uri": "https://localhost:8080/",
     "height": 197
    },
    "colab_type": "code",
    "id": "YQwmD-Oq7GcI",
    "outputId": "6509880b-199c-4926-aa22-69ab0934bbcf"
   },
   "outputs": [
    {
     "data": {
      "text/html": [
       "<div>\n",
       "<style scoped>\n",
       "    .dataframe tbody tr th:only-of-type {\n",
       "        vertical-align: middle;\n",
       "    }\n",
       "\n",
       "    .dataframe tbody tr th {\n",
       "        vertical-align: top;\n",
       "    }\n",
       "\n",
       "    .dataframe thead th {\n",
       "        text-align: right;\n",
       "    }\n",
       "</style>\n",
       "<table border=\"1\" class=\"dataframe\">\n",
       "  <thead>\n",
       "    <tr style=\"text-align: right;\">\n",
       "      <th></th>\n",
       "      <th>index</th>\n",
       "      <th>short_description</th>\n",
       "    </tr>\n",
       "  </thead>\n",
       "  <tbody>\n",
       "    <tr>\n",
       "      <th>0</th>\n",
       "      <td>0</td>\n",
       "      <td>Now, we're not exactly saying Kate is cutting ...</td>\n",
       "    </tr>\n",
       "    <tr>\n",
       "      <th>1</th>\n",
       "      <td>1</td>\n",
       "      <td>Instagram's Local Lens series is the perfect w...</td>\n",
       "    </tr>\n",
       "    <tr>\n",
       "      <th>4</th>\n",
       "      <td>4</td>\n",
       "      <td>Check out the video on how to get our favorite...</td>\n",
       "    </tr>\n",
       "    <tr>\n",
       "      <th>5</th>\n",
       "      <td>5</td>\n",
       "      <td>Want to meet the flesh-and-blood Annie Oakley?...</td>\n",
       "    </tr>\n",
       "    <tr>\n",
       "      <th>6</th>\n",
       "      <td>6</td>\n",
       "      <td>The latest line might be coming to us from Cha...</td>\n",
       "    </tr>\n",
       "  </tbody>\n",
       "</table>\n",
       "</div>"
      ],
      "text/plain": [
       "   index                                  short_description\n",
       "0      0  Now, we're not exactly saying Kate is cutting ...\n",
       "1      1  Instagram's Local Lens series is the perfect w...\n",
       "4      4  Check out the video on how to get our favorite...\n",
       "5      5  Want to meet the flesh-and-blood Annie Oakley?...\n",
       "6      6  The latest line might be coming to us from Cha..."
      ]
     },
     "execution_count": 22,
     "metadata": {
      "tags": []
     },
     "output_type": "execute_result"
    }
   ],
   "source": [
    "evaluation_test = evaluation_test.dropna()\n",
    "evaluation_test.head()"
   ]
  },
  {
   "cell_type": "code",
   "execution_count": 23,
   "metadata": {
    "colab": {
     "base_uri": "https://localhost:8080/",
     "height": 197
    },
    "colab_type": "code",
    "id": "dwHofb3HR0wk",
    "outputId": "7f04659b-5554-4f57-dde3-f03ae345bf2c"
   },
   "outputs": [
    {
     "data": {
      "text/html": [
       "<div>\n",
       "<style scoped>\n",
       "    .dataframe tbody tr th:only-of-type {\n",
       "        vertical-align: middle;\n",
       "    }\n",
       "\n",
       "    .dataframe tbody tr th {\n",
       "        vertical-align: top;\n",
       "    }\n",
       "\n",
       "    .dataframe thead th {\n",
       "        text-align: right;\n",
       "    }\n",
       "</style>\n",
       "<table border=\"1\" class=\"dataframe\">\n",
       "  <thead>\n",
       "    <tr style=\"text-align: right;\">\n",
       "      <th></th>\n",
       "      <th>index</th>\n",
       "      <th>text_tokens</th>\n",
       "    </tr>\n",
       "  </thead>\n",
       "  <tbody>\n",
       "    <tr>\n",
       "      <th>0</th>\n",
       "      <td>0</td>\n",
       "      <td>[Now, exactly, saying, Kate, cutting, loose, t...</td>\n",
       "    </tr>\n",
       "    <tr>\n",
       "      <th>1</th>\n",
       "      <td>1</td>\n",
       "      <td>[Instagrams, Local, Lens, series, perfect, way...</td>\n",
       "    </tr>\n",
       "    <tr>\n",
       "      <th>4</th>\n",
       "      <td>4</td>\n",
       "      <td>[Check, video, get, favorite, new, wavy, style...</td>\n",
       "    </tr>\n",
       "    <tr>\n",
       "      <th>5</th>\n",
       "      <td>5</td>\n",
       "      <td>[Want, meet, fleshandblood, Annie, Oakley, Sum...</td>\n",
       "    </tr>\n",
       "    <tr>\n",
       "      <th>6</th>\n",
       "      <td>6</td>\n",
       "      <td>[The, latest, line, might, coming, u, Charlize...</td>\n",
       "    </tr>\n",
       "  </tbody>\n",
       "</table>\n",
       "</div>"
      ],
      "text/plain": [
       "   index                                        text_tokens\n",
       "0      0  [Now, exactly, saying, Kate, cutting, loose, t...\n",
       "1      1  [Instagrams, Local, Lens, series, perfect, way...\n",
       "4      4  [Check, video, get, favorite, new, wavy, style...\n",
       "5      5  [Want, meet, fleshandblood, Annie, Oakley, Sum...\n",
       "6      6  [The, latest, line, might, coming, u, Charlize..."
      ]
     },
     "execution_count": 23,
     "metadata": {
      "tags": []
     },
     "output_type": "execute_result"
    }
   ],
   "source": [
    "evaluation_test = normalize(evaluation_test)\n",
    "evaluation_test.head()"
   ]
  },
  {
   "cell_type": "code",
   "execution_count": 24,
   "metadata": {
    "colab": {
     "base_uri": "https://localhost:8080/",
     "height": 197
    },
    "colab_type": "code",
    "id": "INNuG1NwSNWf",
    "outputId": "1b221671-a5c9-4856-a2f0-22a130ddc4cc"
   },
   "outputs": [
    {
     "data": {
      "text/html": [
       "<div>\n",
       "<style scoped>\n",
       "    .dataframe tbody tr th:only-of-type {\n",
       "        vertical-align: middle;\n",
       "    }\n",
       "\n",
       "    .dataframe tbody tr th {\n",
       "        vertical-align: top;\n",
       "    }\n",
       "\n",
       "    .dataframe thead th {\n",
       "        text-align: right;\n",
       "    }\n",
       "</style>\n",
       "<table border=\"1\" class=\"dataframe\">\n",
       "  <thead>\n",
       "    <tr style=\"text-align: right;\">\n",
       "      <th></th>\n",
       "      <th>index</th>\n",
       "      <th>text_tokens</th>\n",
       "      <th>prediction</th>\n",
       "    </tr>\n",
       "  </thead>\n",
       "  <tbody>\n",
       "    <tr>\n",
       "      <th>0</th>\n",
       "      <td>0</td>\n",
       "      <td>[Now, exactly, saying, Kate, cutting, loose, t...</td>\n",
       "      <td>STYLE &amp; BEAUTY</td>\n",
       "    </tr>\n",
       "    <tr>\n",
       "      <th>1</th>\n",
       "      <td>1</td>\n",
       "      <td>[Instagrams, Local, Lens, series, perfect, way...</td>\n",
       "      <td>TRAVEL</td>\n",
       "    </tr>\n",
       "    <tr>\n",
       "      <th>4</th>\n",
       "      <td>4</td>\n",
       "      <td>[Check, video, get, favorite, new, wavy, style...</td>\n",
       "      <td>STYLE &amp; BEAUTY</td>\n",
       "    </tr>\n",
       "    <tr>\n",
       "      <th>5</th>\n",
       "      <td>5</td>\n",
       "      <td>[Want, meet, fleshandblood, Annie, Oakley, Sum...</td>\n",
       "      <td>TRAVEL</td>\n",
       "    </tr>\n",
       "    <tr>\n",
       "      <th>6</th>\n",
       "      <td>6</td>\n",
       "      <td>[The, latest, line, might, coming, u, Charlize...</td>\n",
       "      <td>STYLE &amp; BEAUTY</td>\n",
       "    </tr>\n",
       "  </tbody>\n",
       "</table>\n",
       "</div>"
      ],
      "text/plain": [
       "   index                                        text_tokens      prediction\n",
       "0      0  [Now, exactly, saying, Kate, cutting, loose, t...  STYLE & BEAUTY\n",
       "1      1  [Instagrams, Local, Lens, series, perfect, way...          TRAVEL\n",
       "4      4  [Check, video, get, favorite, new, wavy, style...  STYLE & BEAUTY\n",
       "5      5  [Want, meet, fleshandblood, Annie, Oakley, Sum...          TRAVEL\n",
       "6      6  [The, latest, line, might, coming, u, Charlize...  STYLE & BEAUTY"
      ]
     },
     "execution_count": 24,
     "metadata": {
      "tags": []
     },
     "output_type": "execute_result"
    }
   ],
   "source": [
    "result = second_prediction(evaluation_test, train, train_all_word_count)\n",
    "result.head()"
   ]
  },
  {
   "cell_type": "code",
   "execution_count": 0,
   "metadata": {
    "colab": {},
    "colab_type": "code",
    "id": "RyEYZ9lDSvz5"
   },
   "outputs": [],
   "source": [
    "output = pd.DataFrame({\"index\": result['index'], \"category\": result['prediction']})\n",
    "output.to_csv('output.csv', index=False)"
   ]
  },
  {
   "cell_type": "markdown",
   "metadata": {
    "colab_type": "text",
    "id": "i8GXlyeOKY4X"
   },
   "source": [
    "# Questions"
   ]
  },
  {
   "cell_type": "markdown",
   "metadata": {
    "colab_type": "text",
    "id": "jE_CIkQ4KcGK"
   },
   "source": [
    "## 1. lemmatization and stemming differences\n",
    "\n",
    "I have answered it <a href=\"#Stemming\">here</a>.\n",
    "## 2. What is tf-idf feature?\n",
    "Suppose we have a document(or a collection of documents i.e, corpus), and we want to summarize it using a few keywords only. In the end, we want some method to compute the importance of each word.\n",
    "One way to approach this would be to count the no. of times a word appears in a document. So, the word’s importance is directly proportional to its frequency. This method is, therefore, called Term Frequency(TF).\n",
    "<img src=\"Images/1.png\" width=\"320\"/>\n",
    "This method fails in practical use as words like “the”, “an”, “a”, etc. will almost always be the result of this method, as they occur more frequently. But of course, they are not the right way to summarize our document.\n",
    "We also want to take into consideration how unique the words are, this method is called Inverse Document Frequency(IDF).\n",
    "<img src=\"Images/2.png\" width=\"320\"/>\n",
    "So, the product of TF and IDF will give us a measure of how frequent the word is in a document multiplied by how unique the word is, giving rise to Term Frequency-Inverse Document Frequency(TF-IDF) measure.<a href=\"https://medium.com/@hritikattri10/feature-extraction-using-tf-idf-algorithm-44eedb37305e\">[1]</a>\n",
    "<img src=\"Images/3.png\" width=\"200\"/>\n",
    "\n",
    "As its shown in the formula, in our model we calculated the TF and we just need to calculate the IDF and multiply it with the TF. So, we can calculate it in the Likelihood.\n",
    "\n",
    "## 3. What if we just consider precision in the machine learning problem?\n",
    "If we only use precision for model evaluation, we can get a 100 percent precision if we manage to correctly guess only one poem of the corresponding poet, and predict the other poet for all other given poems.\n",
    "\n",
    "$$ Precision = \\frac{True Positive}{True Positive + False Positive} $$\n",
    "\n",
    "In other words if we are able to predict one of Hafez's poems correctly and assign it to Hafez and then assign all the other poems to Saadi, the precision for Hafez will be 100%.\n",
    "\n",
    "## 4. What if we just have one sample of one word in our train data set?\n",
    "\n",
    "If this situation happen, the probability of one category become zero because it multiply with 0. I have considered this matter and solve it with `Laplace` method. I mention it <a href=\"#Laplace-Smoothing\">here</a>."
   ]
  }
 ],
 "metadata": {
  "colab": {
   "collapsed_sections": [],
   "name": "CA3.ipynb",
   "provenance": [],
   "toc_visible": true
  },
  "kernelspec": {
   "display_name": "Python 3",
   "language": "python",
   "name": "python3"
  },
  "language_info": {
   "codemirror_mode": {
    "name": "ipython",
    "version": 3
   },
   "file_extension": ".py",
   "mimetype": "text/x-python",
   "name": "python",
   "nbconvert_exporter": "python",
   "pygments_lexer": "ipython3",
   "version": "3.7.4"
  }
 },
 "nbformat": 4,
 "nbformat_minor": 1
}
